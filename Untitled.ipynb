{
 "cells": [
  {
   "cell_type": "code",
   "execution_count": 1,
   "metadata": {},
   "outputs": [
    {
     "data": {
      "text/html": [
       "<style>.container { width:90% !important; }</style>"
      ],
      "text/plain": [
       "<IPython.core.display.HTML object>"
      ]
     },
     "metadata": {},
     "output_type": "display_data"
    }
   ],
   "source": [
    "from IPython.display import display, HTML\n",
    "display(HTML('<style>.container { width:90% !important; }</style>'))  # makes it wider\n",
    "import pandas as pd\n",
    "import numpy as np"
   ]
  },
  {
   "cell_type": "code",
   "execution_count": 2,
   "metadata": {},
   "outputs": [],
   "source": [
    "import main"
   ]
  },
  {
   "cell_type": "code",
   "execution_count": 3,
   "metadata": {},
   "outputs": [
    {
     "data": {
      "text/plain": [
       "<function main.main(test_groups, groups=None, date=None, feature=None, data_source=None, data_query_path=None, time_period=None, time_indicator=None)>"
      ]
     },
     "execution_count": 3,
     "metadata": {},
     "output_type": "execute_result"
    }
   ],
   "source": [
    "main.main"
   ]
  },
  {
   "cell_type": "code",
   "execution_count": 32,
   "metadata": {},
   "outputs": [],
   "source": [
    "normal_dist_query = \"\"\"\n",
    "                       SELECT\n",
    "                            userdevices.brand as groups,\n",
    "                            amount_usd,\n",
    "                            CASE WHEN transactions_type = 'CARD_PAYMENT' THEN 1\n",
    "                                 WHEN transactions_type = 'TRANSFER' THEN 0 END test_groups\n",
    "                       FROM customeranalytics.public.transactions\n",
    "                           LEFT JOIN (SELECT * FROM customeranalytics.public.userdevices) as userdevices\n",
    "                           ON transactions.user_id = userdevices.user_id\n",
    "                       WHERE transactions_type IN ('CARD_PAYMENT', 'TRANSFER')\n",
    "\"\"\".replace(\"\\r\", \" \").replace(\"\\n\", \" \").replace(\" \", \"+\")\n",
    "\n",
    "beta_dist_query = \"\"\"\n",
    "                        SELECT\n",
    "                            is_control, session, rfm, date\n",
    "                        FROM designingtest\n",
    "\"\"\".replace(\"\\r\", \" \").replace(\"\\n\", \" \").replace(\" \", \"+\")"
   ]
  },
  {
   "cell_type": "code",
   "execution_count": 31,
   "metadata": {},
   "outputs": [
    {
     "data": {
      "text/plain": [
       "{'test_groups': 'is_control',\n",
       " 'groups': 'groups',\n",
       " 'date': '2020-08-03',\n",
       " 'feature': 'amount_usd',\n",
       " 'data_source': 'postgresql',\n",
       " 'time_period': 'Daily',\n",
       " 'time_indicator': 'date',\n",
       " 'data_query_path': \"++++++++++++++++++++++++SELECT+++++++++++++++++++++++++++++userdevices.brand+as+groups,+++++++++++++++++++++++++++++amount_usd,+++++++++++++++++++++++++++++CASE+WHEN+transactions_type+=+'CARD_PAYMENT'+THEN+1++++++++++++++++++++++++++++++++++WHEN+transactions_type+=+'TRANSFER'+THEN+0+END+test_groups++++++++++++++++++++++++FROM+customeranalytics.public.transactions++++++++++++++++++++++++++++LEFT+JOIN+(SELECT+*+FROM+customeranalytics.public.userdevices)+as+userdevices++++++++++++++++++++++++++++ON+transactions.user_id+=+userdevices.user_id++++++++++++++++++++++++WHERE+transactions_type+IN+('CARD_PAYMENT',+'TRANSFER')+AND+userdevices.brand+=+'ANDROID'+\"}"
      ]
     },
     "execution_count": 31,
     "metadata": {},
     "output_type": "execute_result"
    }
   ],
   "source": [
    "params = {'test_groups' : 'is_control',\n",
    "'groups' :'groups',\n",
    "'date' :'2020-08-03',\n",
    "'feature' :'amount_usd',\n",
    "'data_source' : 'postgresql',\n",
    "'time_period' : 'Daily',\n",
    "'time_indicator' : 'date',\n",
    "'data_query_path' : normal_dist_query}\n",
    "params"
   ]
  },
  {
   "cell_type": "code",
   "execution_count": 21,
   "metadata": {},
   "outputs": [
    {
     "ename": "IndexError",
     "evalue": "list index out of range",
     "output_type": "error",
     "traceback": [
      "\u001b[0;31m---------------------------------------------------------------------------\u001b[0m",
      "\u001b[0;31mIndexError\u001b[0m                                Traceback (most recent call last)",
      "\u001b[0;32m<ipython-input-21-3d5a717534f1>\u001b[0m in \u001b[0;36m<module>\u001b[0;34m\u001b[0m\n\u001b[0;32m----> 1\u001b[0;31m \u001b[0mmain\u001b[0m\u001b[0;34m.\u001b[0m\u001b[0mmain\u001b[0m\u001b[0;34m(\u001b[0m\u001b[0;34m**\u001b[0m\u001b[0mparams\u001b[0m\u001b[0;34m)\u001b[0m\u001b[0;34m\u001b[0m\u001b[0;34m\u001b[0m\u001b[0m\n\u001b[0m",
      "\u001b[0;32m~/Documents/GitHub/abtp/main.py\u001b[0m in \u001b[0;36mmain\u001b[0;34m(test_groups, groups, date, feature, data_source, data_query_path, time_period, time_indicator)\u001b[0m\n\u001b[1;32m     17\u001b[0m     ab_test = ABTest(test_groups=test_groups, groups=groups, date=date, feature=feature,\n\u001b[1;32m     18\u001b[0m                      \u001b[0mdata_source\u001b[0m\u001b[0;34m=\u001b[0m\u001b[0mdata_source\u001b[0m\u001b[0;34m,\u001b[0m \u001b[0mdata_query_path\u001b[0m\u001b[0;34m=\u001b[0m\u001b[0murl_string\u001b[0m\u001b[0;34m(\u001b[0m\u001b[0mdata_query_path\u001b[0m\u001b[0;34m)\u001b[0m\u001b[0;34m,\u001b[0m\u001b[0;34m\u001b[0m\u001b[0;34m\u001b[0m\u001b[0m\n\u001b[0;32m---> 19\u001b[0;31m                      time_period=time_period, time_indicator=time_indicator)\n\u001b[0m\u001b[1;32m     20\u001b[0m     \u001b[0mab_test\u001b[0m\u001b[0;34m.\u001b[0m\u001b[0mexecute\u001b[0m\u001b[0;34m(\u001b[0m\u001b[0;34m)\u001b[0m\u001b[0;34m\u001b[0m\u001b[0;34m\u001b[0m\u001b[0m\n\u001b[1;32m     21\u001b[0m     \u001b[0mget_time\u001b[0m\u001b[0;34m(\u001b[0m\u001b[0;34m)\u001b[0m\u001b[0;34m\u001b[0m\u001b[0;34m\u001b[0m\u001b[0m\n",
      "\u001b[0;32m~/Documents/GitHub/abtp/ab_test.py\u001b[0m in \u001b[0;36m__init__\u001b[0;34m(self, test_groups, groups, date, feature, data_source, data_query_path, time_period, time_indicator)\u001b[0m\n\u001b[1;32m     49\u001b[0m         \u001b[0mself\u001b[0m\u001b[0;34m.\u001b[0m\u001b[0mdate\u001b[0m \u001b[0;34m=\u001b[0m \u001b[0mdate\u001b[0m\u001b[0;34m\u001b[0m\u001b[0;34m\u001b[0m\u001b[0m\n\u001b[1;32m     50\u001b[0m         \u001b[0mself\u001b[0m\u001b[0;34m.\u001b[0m\u001b[0mtime_indicator\u001b[0m \u001b[0;34m=\u001b[0m \u001b[0mtime_indicator\u001b[0m\u001b[0;34m\u001b[0m\u001b[0;34m\u001b[0m\u001b[0m\n\u001b[0;32m---> 51\u001b[0;31m         \u001b[0mself\u001b[0m\u001b[0;34m.\u001b[0m\u001b[0mtest_groups_field\u001b[0m\u001b[0;34m,\u001b[0m \u001b[0mself\u001b[0m\u001b[0;34m.\u001b[0m\u001b[0mtest_groups_indicator\u001b[0m \u001b[0;34m=\u001b[0m \u001b[0msplit_test_groups\u001b[0m\u001b[0;34m(\u001b[0m\u001b[0mtest_groups\u001b[0m\u001b[0;34m)\u001b[0m\u001b[0;34m\u001b[0m\u001b[0;34m\u001b[0m\u001b[0m\n\u001b[0m\u001b[1;32m     52\u001b[0m         self.data, self.groups = data_manipulation(date=self.date,\n\u001b[1;32m     53\u001b[0m                                                    \u001b[0mtime_indicator\u001b[0m\u001b[0;34m=\u001b[0m\u001b[0mtime_indicator\u001b[0m\u001b[0;34m,\u001b[0m\u001b[0;34m\u001b[0m\u001b[0;34m\u001b[0m\u001b[0m\n",
      "\u001b[0;32m~/Documents/GitHub/abtp/utils.py\u001b[0m in \u001b[0;36msplit_test_groups\u001b[0;34m(groups)\u001b[0m\n\u001b[1;32m    132\u001b[0m \u001b[0;32mdef\u001b[0m \u001b[0msplit_test_groups\u001b[0m\u001b[0;34m(\u001b[0m\u001b[0mgroups\u001b[0m\u001b[0;34m)\u001b[0m\u001b[0;34m:\u001b[0m\u001b[0;34m\u001b[0m\u001b[0;34m\u001b[0m\u001b[0m\n\u001b[1;32m    133\u001b[0m     \u001b[0ms_groups\u001b[0m \u001b[0;34m=\u001b[0m \u001b[0mgroups\u001b[0m\u001b[0;34m.\u001b[0m\u001b[0msplit\u001b[0m\u001b[0;34m(\u001b[0m\u001b[0;34m\"+\"\u001b[0m\u001b[0;34m)\u001b[0m\u001b[0;34m\u001b[0m\u001b[0;34m\u001b[0m\u001b[0m\n\u001b[0;32m--> 134\u001b[0;31m     \u001b[0;32mreturn\u001b[0m \u001b[0ms_groups\u001b[0m\u001b[0;34m[\u001b[0m\u001b[0;36m0\u001b[0m\u001b[0;34m]\u001b[0m\u001b[0;34m,\u001b[0m \u001b[0ms_groups\u001b[0m\u001b[0;34m[\u001b[0m\u001b[0;36m1\u001b[0m\u001b[0;34m]\u001b[0m\u001b[0;34m\u001b[0m\u001b[0;34m\u001b[0m\u001b[0m\n\u001b[0m\u001b[1;32m    135\u001b[0m \u001b[0;34m\u001b[0m\u001b[0m\n\u001b[1;32m    136\u001b[0m \u001b[0;34m\u001b[0m\u001b[0m\n",
      "\u001b[0;31mIndexError\u001b[0m: list index out of range"
     ]
    }
   ],
   "source": [
    "main.main(**params)"
   ]
  },
  {
   "cell_type": "code",
   "execution_count": 6,
   "metadata": {},
   "outputs": [],
   "source": [
    "import date\n",
    "def date_part(date, part):\n",
    "    if part == 'year':\n",
    "        return date.year\n",
    "    if part == 'quarter':\n",
    "        return get_quarter(date)\n",
    "    if part == 'month':\n",
    "        return date.month\n",
    "    if part == 'week':\n",
    "        return date.isocalendar()[1]\n",
    "    if part == 'week_part':\n",
    "        return 1 if date.isoweekday() in [6, 7] else 0\n",
    "    if part == 'week_day':\n",
    "        return date.isoweekday()\n",
    "    if part == 'day_part':\n",
    "        return get_day_part(date.hour)\n",
    "    if part == 'hour':\n",
    "        return date.hour\n",
    "    if part == 'min':\n",
    "        return date.min\n",
    "    if part == 'second':\n",
    "        return date.second"
   ]
  },
  {
   "cell_type": "code",
   "execution_count": 28,
   "metadata": {},
   "outputs": [],
   "source": [
    "data = pd.DataFrame([{'a': True}, {'a': True}, {'a': False}])"
   ]
  },
  {
   "cell_type": "code",
   "execution_count": 29,
   "metadata": {},
   "outputs": [
    {
     "data": {
      "text/plain": [
       "True"
      ]
     },
     "execution_count": 29,
     "metadata": {},
     "output_type": "execute_result"
    }
   ],
   "source": [
    "sorted(list(data['a'].unique()))[-1]"
   ]
  },
  {
   "cell_type": "code",
   "execution_count": null,
   "metadata": {},
   "outputs": [],
   "source": []
  }
 ],
 "metadata": {
  "kernelspec": {
   "display_name": "Python 3",
   "language": "python",
   "name": "python3"
  },
  "language_info": {
   "codemirror_mode": {
    "name": "ipython",
    "version": 3
   },
   "file_extension": ".py",
   "mimetype": "text/x-python",
   "name": "python",
   "nbconvert_exporter": "python",
   "pygments_lexer": "ipython3",
   "version": "3.7.4"
  }
 },
 "nbformat": 4,
 "nbformat_minor": 2
}
